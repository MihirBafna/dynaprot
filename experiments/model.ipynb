{
 "cells": [
  {
   "cell_type": "code",
   "execution_count": 1,
   "metadata": {},
   "outputs": [],
   "source": [
    "%load_ext autoreload\n",
    "%autoreload 2\n",
    "\n",
    "import numpy as np\n",
    "import pandas as pd\n",
    "import torch\n",
    "import os\n",
    "import sys\n",
    "sys.path.append(\"../\")\n",
    "from dynaprot.evaluation.visualizer import plot_3d_gaussian_ellipsoids,plot_3d_gaussian_comparison\n"
   ]
  },
  {
   "cell_type": "code",
   "execution_count": 2,
   "metadata": {},
   "outputs": [],
   "source": [
    "data_dir = \"/data/cb/scratch/datasets/atlas_dynamics_labels_replicates\"\n",
    "data_config_dir = \"../configs/data\"\n",
    "config_dir = \"../configs\""
   ]
  },
  {
   "cell_type": "code",
   "execution_count": 3,
   "metadata": {},
   "outputs": [
    {
     "name": "stdout",
     "output_type": "stream",
     "text": [
      "{'model_params': {'num_ipa_blocks': 8, 'd_model': 128}, 'train_params': {'precision': 32, 'batch_size': 20, 'epochs': 10000, 'learning_rate': 0.0001, 'grad_clip_norm': 1.0, 'accelerator': 'gpu', 'strategy': 'ddp', 'num_devices': [3, 4, 5, 6, 7], 'num_nodes': 1, 'project': 'openprot/dynamics', 'neptune_api_key': 'INSERT YOUR API TOKEN HERE', 'tags': ['dynaprot', 'debugging', 'dropout'], 'log_model_checkpoints': True}, 'eval_params': {'loss_weights': {'resi_gaussians': {'mse_means': 0.0, 'mse_covs': 0.0, 'kldiv': 0.0, 'eigen_penalty': None, 'cond_penalty': None, 'frob_norm': 0.0, 'log_frob_norm': 0.0, 'affine_invariant_dist': 0.0, 'bures_dist': 1.0}, 'resi_rmsf': None, 'resi_rmsd': None, 'resi_rg': None}}, 'checkpoint_path': '', 'logs': '/path/to/logs', 'results': '/path/to/results', 'data_config': {'repo_dir': '/data/cb/mihirb14/projects/DynaProt', 'data_dir': '/data/cb/scratch/datasets/atlas_dynamics_labels_replicates', 'protein_chains_path': '/data/cb/mihirb14/projects/dynaprot/dynaprot/data/preprocessing/protein_lists/atlas_chains.npy', 'replicates': [1, 2, 3], 'max_num_residues': 512}}\n",
      "aatype: torch.Size([1, 512, 21])\n",
      "residue_index: torch.Size([1, 512])\n",
      "all_atom_positions: torch.Size([1, 512, 37, 3])\n",
      "all_atom_mask: torch.Size([1, 512, 37])\n",
      "frames: torch.Size([1, 512, 4, 4])\n",
      "dynamics_means: torch.Size([1, 512, 3])\n",
      "dynamics_covars: torch.Size([1, 512, 3, 3])\n",
      "dynamics_fullcovar: torch.Size([1, 512, 512])\n",
      "dynamics_correlations: torch.Size([1, 512, 512])\n",
      "resi_pad_mask: torch.Size([1, 512])\n"
     ]
    }
   ],
   "source": [
    "import yaml\n",
    "from pathlib import Path\n",
    "\n",
    "# Load data config\n",
    "with open(config_dir+\"/data/atlas_config.yaml\", \"r\") as file:\n",
    "    dataconfig = yaml.safe_load(file)\n",
    "    \n",
    "# Load train config\n",
    "with open(config_dir+\"/model/dynaprot_simple.yaml\", \"r\") as file:\n",
    "    modelconfig = yaml.safe_load(file)\n",
    "    \n",
    "modelconfig[\"data_config\"] = dataconfig\n",
    "    \n",
    "print(modelconfig)\n",
    "\n",
    "from dynaprot.data.datasets import DynaProtDataset, OpenFoldBatchCollator\n",
    "\n",
    "dataset = DynaProtDataset(dataconfig)\n",
    "\n",
    "dataloader = torch.utils.data.DataLoader(\n",
    "        dataset,\n",
    "        batch_size=1,\n",
    "        collate_fn=OpenFoldBatchCollator(),\n",
    "        num_workers=12,\n",
    "        shuffle=False,\n",
    "    )\n",
    "batch_prots = next(iter(dataloader))\n",
    "\n",
    "for k in batch_prots.keys():\n",
    "    # print(k,batch_prots[k])\n",
    "    print(f\"{k}: {batch_prots[k].shape}\")"
   ]
  },
  {
   "cell_type": "code",
   "execution_count": 8,
   "metadata": {},
   "outputs": [
    {
     "data": {
      "text/plain": [
       "DynaProt(\n",
       "  (sequence_embedding): Embedding(21, 128)\n",
       "  (ipa_blocks): ModuleList(\n",
       "    (0): IPABlock(\n",
       "      (attn_norm): LayerNorm((128,), eps=1e-05, elementwise_affine=True)\n",
       "      (attn): InvariantPointAttention(\n",
       "        (to_scalar_q): Linear(in_features=128, out_features=128, bias=False)\n",
       "        (to_scalar_k): Linear(in_features=128, out_features=128, bias=False)\n",
       "        (to_scalar_v): Linear(in_features=128, out_features=128, bias=False)\n",
       "        (to_point_q): Linear(in_features=128, out_features=96, bias=False)\n",
       "        (to_point_k): Linear(in_features=128, out_features=96, bias=False)\n",
       "        (to_point_v): Linear(in_features=128, out_features=96, bias=False)\n",
       "        (to_out): Linear(in_features=256, out_features=128, bias=True)\n",
       "      )\n",
       "      (post_attn_dropout): Dropout(p=0.0, inplace=False)\n",
       "      (ff_norm): LayerNorm((128,), eps=1e-05, elementwise_affine=True)\n",
       "      (ff): Sequential(\n",
       "        (0): Linear(in_features=128, out_features=128, bias=True)\n",
       "        (1): ReLU()\n",
       "        (2): Linear(in_features=128, out_features=128, bias=True)\n",
       "        (3): ReLU()\n",
       "        (4): Linear(in_features=128, out_features=128, bias=True)\n",
       "      )\n",
       "      (post_ff_dropout): Dropout(p=0.0, inplace=False)\n",
       "    )\n",
       "  )\n",
       "  (dropout): Dropout(p=0.2, inplace=False)\n",
       "  (covars_predictor): Linear(in_features=128, out_features=6, bias=True)\n",
       "  (loss): DynaProtLoss()\n",
       ")"
      ]
     },
     "execution_count": 8,
     "metadata": {},
     "output_type": "execute_result"
    }
   ],
   "source": [
    "from dynaprot.model.architecture import DynaProt\n",
    "\n",
    "model = DynaProt(cfg=modelconfig)\n",
    "model"
   ]
  },
  {
   "cell_type": "code",
   "execution_count": 11,
   "metadata": {},
   "outputs": [
    {
     "data": {
      "text/plain": [
       "{'loss': tensor(1.5821, grad_fn=<AddBackward0>),\n",
       " 'covars': tensor([[[[ 1.6597,  0.0631,  0.3033],\n",
       "           [ 0.0631,  0.8352,  0.2286],\n",
       "           [ 0.3033,  0.2286,  0.8786]],\n",
       " \n",
       "          [[ 0.6293,  0.0654, -0.0986],\n",
       "           [ 0.0654,  0.5257, -0.8528],\n",
       "           [-0.0986, -0.8528,  1.9082]],\n",
       " \n",
       "          [[ 0.5268, -0.2192, -0.1926],\n",
       "           [-0.2192,  0.3371,  0.3239],\n",
       "           [-0.1926,  0.3239,  0.5132]],\n",
       " \n",
       "          ...,\n",
       " \n",
       "          [[ 0.6565, -0.4179,  0.2503],\n",
       "           [-0.4179,  0.8409, -1.0044],\n",
       "           [ 0.2503, -1.0044,  1.6656]],\n",
       " \n",
       "          [[ 0.6565, -0.4179,  0.2503],\n",
       "           [-0.4179,  0.8409, -1.0044],\n",
       "           [ 0.2503, -1.0044,  1.6656]],\n",
       " \n",
       "          [[ 0.6565, -0.4179,  0.2503],\n",
       "           [-0.4179,  0.8409, -1.0044],\n",
       "           [ 0.2503, -1.0044,  1.6656]]]])}"
      ]
     },
     "execution_count": 11,
     "metadata": {},
     "output_type": "execute_result"
    }
   ],
   "source": [
    "model.training_step(batch_prots,0)"
   ]
  },
  {
   "cell_type": "code",
   "execution_count": null,
   "metadata": {},
   "outputs": [],
   "source": [
    "# import torch\n",
    "# from torch.utils.data import DataLoader\n",
    "\n",
    "# def calculate_metrics(dataset, batch_size=16, device=\"cpu\"):\n",
    "#     \"\"\"\n",
    "#     Calculate the condition numbers and min/max eigenvalues of ground truth covariance matrices.\n",
    "    \n",
    "#     Args:\n",
    "#         dataset (torch.utils.data.Dataset): Dataset containing ground truth covariance matrices.\n",
    "#         batch_size (int): Batch size for DataLoader.\n",
    "#         device (str): Device to run the calculations ('cpu' or 'cuda').\n",
    "    \n",
    "#     Returns:\n",
    "#         dict: Dictionary containing condition numbers, min eigenvalues, and max eigenvalues.\n",
    "#     \"\"\"\n",
    "#     dataloader = DataLoader(dataset, batch_size=batch_size, shuffle=False, collate_fn=OpenFoldBatchCollator())\n",
    "#     condition_numbers = []\n",
    "#     min_eigenvalues = []\n",
    "#     max_eigenvalues = []\n",
    "\n",
    "#     for batch in dataloader:\n",
    "#         # Assuming `batch` contains covariance matrices as a tensor of shape (N, d, d)\n",
    "#         mask = batch[\"resi_pad_mask\"].bool()\n",
    "#         ground_truth_covars = batch[\"dynamics_covars\"][mask].to(device)  # Replace \"covariances\" with your key\n",
    "#         eigenvalues = torch.linalg.eigvalsh(ground_truth_covars)  # Shape: (N, d)\n",
    "\n",
    "#         # Compute min, max eigenvalues and condition numbers\n",
    "#         min_eigenvalues.extend(eigenvalues.min(dim=-1).values.cpu().tolist())\n",
    "#         max_eigenvalues.extend(eigenvalues.max(dim=-1).values.cpu().tolist())\n",
    "#         condition_numbers.extend((eigenvalues.max(dim=-1).values / eigenvalues.min(dim=-1).values).cpu().tolist())\n",
    "\n",
    "#     # Aggregate results\n",
    "#     metrics = {\n",
    "#         \"condition_numbers\": condition_numbers,\n",
    "#         \"min_eigenvalues\": min_eigenvalues,\n",
    "#         \"max_eigenvalues\": max_eigenvalues,\n",
    "#     }\n",
    "#     return metrics\n",
    "\n",
    "# eigenvalue_metrics = pd.DataFrame(calculate_metrics(dataset))\n",
    "# eigenvalue_metrics"
   ]
  },
  {
   "cell_type": "code",
   "execution_count": null,
   "metadata": {},
   "outputs": [],
   "source": [
    "eigenvalue_metrics.max_eigenvalues.min()"
   ]
  },
  {
   "cell_type": "code",
   "execution_count": null,
   "metadata": {},
   "outputs": [],
   "source": [
    "import plotly.express as px\n",
    "px.histogram(eigenvalue_metrics, x=\"condition_numbers\", cumulative=True)"
   ]
  },
  {
   "cell_type": "code",
   "execution_count": null,
   "metadata": {},
   "outputs": [],
   "source": [
    "px.histogram(eigenvalue_metrics, x=\"max_eigenvalues\", cumulative=True)"
   ]
  },
  {
   "cell_type": "code",
   "execution_count": null,
   "metadata": {},
   "outputs": [],
   "source": [
    "batch_prots[\"dynamics_covars\"].mean()"
   ]
  },
  {
   "cell_type": "code",
   "execution_count": 5,
   "metadata": {},
   "outputs": [
    {
     "data": {
      "text/plain": [
       "DynaProt(\n",
       "  (sequence_embedding): Embedding(21, 128)\n",
       "  (ipa_blocks): ModuleList(\n",
       "    (0-7): 8 x InvariantPointAttention(\n",
       "      (linear_q): Linear(in_features=128, out_features=64, bias=True)\n",
       "      (linear_kv): Linear(in_features=128, out_features=128, bias=True)\n",
       "      (linear_q_points): Linear(in_features=128, out_features=48, bias=True)\n",
       "      (linear_kv_points): Linear(in_features=128, out_features=144, bias=True)\n",
       "      (linear_b): Linear(in_features=128, out_features=4, bias=True)\n",
       "      (linear_out): Linear(in_features=704, out_features=128, bias=True)\n",
       "      (softmax): Softmax(dim=-1)\n",
       "      (softplus): Softplus(beta=1, threshold=20)\n",
       "    )\n",
       "  )\n",
       "  (covars_predictor): Linear(in_features=128, out_features=6, bias=True)\n",
       "  (loss): DynaProtLoss()\n",
       ")"
      ]
     },
     "execution_count": 5,
     "metadata": {},
     "output_type": "execute_result"
    }
   ],
   "source": [
    "from dynaprot.model.architecture import DynaProt\n",
    "device= \"cpu\"\n",
    "# model = DynaProt.load_from_checkpoint(\"../.neptune/DYNAMICS-126/DYNAMICS-126/checkpoints/step13112.ckpt\", cfg=modelconfig).to(device)\n",
    "model = DynaProt.load_from_checkpoint(\"../.neptune/DYNAMICS-126/DYNAMICS-126/checkpoints/step=174798.ckpt\", cfg=modelconfig).to(device)\n",
    "\n",
    "model"
   ]
  },
  {
   "cell_type": "markdown",
   "metadata": {},
   "source": []
  },
  {
   "cell_type": "code",
   "execution_count": 6,
   "metadata": {},
   "outputs": [
    {
     "name": "stdout",
     "output_type": "stream",
     "text": [
      "3D Gaussian comparison plot saved to ./ellipsoid_comparison.html\n"
     ]
    }
   ],
   "source": [
    "from openfold.utils.rigid_utils import  Rigid\n",
    "\n",
    "sample_protein = batch_prots\n",
    "preds = model(sample_protein[\"aatype\"].argmax(dim=-1).to(device), Rigid.from_tensor_4x4(sample_protein[\"frames\"].to(device)), sample_protein[\"resi_pad_mask\"].to(device))\n",
    "\n",
    "# plot_3d_gaussian_ellipsoids(sample_protein[\"dynamics_means\"].numpy().squeeze()[:20], sample_protein[\"dynamics_covars\"].numpy().squeeze()[:20], num_points=50, save_path = \"./ground_truth.html\")\n",
    "# plot_3d_gaussian_ellipsoids(sample_protein[\"dynamics_means\"].detach().numpy().squeeze()[:20], preds[\"covars\"].detach().numpy().squeeze()[:20], num_points=50, save_path = \"./predicted.html\")\n",
    "plot_3d_gaussian_comparison(sample_protein[\"dynamics_means\"].detach().numpy().squeeze()[:50], sample_protein[\"dynamics_covars\"].numpy().squeeze()[:50],  preds[\"covars\"].detach().numpy().squeeze()[:50], num_points=50)"
   ]
  },
  {
   "cell_type": "code",
   "execution_count": 42,
   "metadata": {},
   "outputs": [
    {
     "data": {
      "text/plain": [
       "(20, 3, 3)"
      ]
     },
     "execution_count": 42,
     "metadata": {},
     "output_type": "execute_result"
    }
   ],
   "source": [
    "sample_protein[\"dynamics_means\"].detach().numpy().squeeze()[:20].shape\n",
    "sample_protein[\"dynamics_covars\"].numpy().squeeze()[:20].shape\n",
    "preds[\"covars\"].detach().numpy().squeeze()[:20].shape"
   ]
  },
  {
   "cell_type": "code",
   "execution_count": null,
   "metadata": {},
   "outputs": [],
   "source": [
    "model.training_step(batch_prots,0)"
   ]
  },
  {
   "cell_type": "code",
   "execution_count": null,
   "metadata": {},
   "outputs": [],
   "source": [
    "import torch.nn.functional as F\n",
    "b = 10\n",
    "n = 2\n",
    "preds = torch.repeat_interleave(torch.arange(6)+1,n).reshape(-1,n).T.unsqueeze(0).repeat(b,1,1)\n",
    "# print(preds,preds.shape)\n",
    "\n",
    "\n",
    "L = torch.zeros(b,n,3,3)\n",
    "\n",
    "i = 0\n",
    "for c in range(3):\n",
    "    for r in range(c,3):\n",
    "        L[:,:,r,c] = preds[:,:,i] \n",
    "        if r == c:\n",
    "            L[:,:,r,c] = F.softplus(L[:,:,r,c])\n",
    "        i+=1\n",
    "\n",
    "covars = L @ L.transpose(2,3)\n",
    "print(covars)\n",
    "# # print(L)\n",
    "# print(covars)"
   ]
  },
  {
   "cell_type": "code",
   "execution_count": null,
   "metadata": {},
   "outputs": [],
   "source": []
  }
 ],
 "metadata": {
  "kernelspec": {
   "display_name": "gaussprot",
   "language": "python",
   "name": "python3"
  },
  "language_info": {
   "codemirror_mode": {
    "name": "ipython",
    "version": 3
   },
   "file_extension": ".py",
   "mimetype": "text/x-python",
   "name": "python",
   "nbconvert_exporter": "python",
   "pygments_lexer": "ipython3",
   "version": "3.9.20"
  }
 },
 "nbformat": 4,
 "nbformat_minor": 2
}
