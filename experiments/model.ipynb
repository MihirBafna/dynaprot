{
 "cells": [
  {
   "cell_type": "code",
   "execution_count": 1,
   "metadata": {},
   "outputs": [],
   "source": [
    "%load_ext autoreload\n",
    "%autoreload 2\n",
    "\n",
    "import numpy as np\n",
    "import pandas as pd\n",
    "import torch\n",
    "import os\n",
    "import sys\n",
    "sys.path.append(\"../\")"
   ]
  },
  {
   "cell_type": "code",
   "execution_count": 2,
   "metadata": {},
   "outputs": [],
   "source": [
    "atlas_data_dir = \"/data/cb/scratch/datasets/atlas\"\n",
    "atlas_dynamicslabels_dir = \"/data/cb/scratch/datasets/atlas_dynamics_labels\"\n",
    "config_dir = \"../trained/configs\""
   ]
  },
  {
   "cell_type": "code",
   "execution_count": 3,
   "metadata": {},
   "outputs": [
    {
     "name": "stdout",
     "output_type": "stream",
     "text": [
      "{'model_params': {'num_ipa_blocks': 8, 'd_model': 128}, 'train_params': {'batch_size': 32, 'epochs': 50, 'learning_rate': 0.001}, 'eval_params': {'loss_weights': {'resi_gaussians': {'mse_means': 1.0, 'kldiv': 1.0}, 'resi_rmsf': 'None', 'resi_rmsd': 'None', 'resi_rg': 'None'}}, 'model_checkpoints': '${repo_dir}/trained/checkpoints', 'logs': '/path/to/logs', 'results': '/path/to/results', 'data_config': {'repo_dir': '/data/cb/mihirb14/projects/DynaProt', 'struc_data_dir': '/data/cb/scratch/datasets/pdb_npz', 'dynam_data_dir': '/data/cb/scratch/datasets/atlas_dynamics_labels', 'max_num_residues': 512}}\n",
      "aatype: torch.Size([10, 512, 21])\n",
      "residue_index: torch.Size([10, 512])\n",
      "all_atom_positions: torch.Size([10, 512, 37, 3])\n",
      "all_atom_mask: torch.Size([10, 512, 37])\n",
      "resi_pad_mask: torch.Size([10, 512])\n",
      "dynamics_means: torch.Size([10, 512, 3])\n",
      "dynamics_covars: torch.Size([10, 512, 3, 3])\n",
      "frames: torch.Size([10, 512, 4, 4])\n"
     ]
    }
   ],
   "source": [
    "import yaml\n",
    "from pathlib import Path\n",
    "\n",
    "# Load data config\n",
    "with open(config_dir+\"/data/atlas_config.yaml\", \"r\") as file:\n",
    "    dataconfig = yaml.safe_load(file)\n",
    "    \n",
    "# Load train config\n",
    "with open(config_dir+\"/model/dynaprot_simple.yaml\", \"r\") as file:\n",
    "    modelconfig = yaml.safe_load(file)\n",
    "    \n",
    "modelconfig[\"data_config\"] = dataconfig\n",
    "    \n",
    "print(modelconfig)\n",
    "\n",
    "from dynaprot.data.datasets import DynaProtDataset, OpenFoldBatchCollator\n",
    "\n",
    "dataset = DynaProtDataset(dataconfig)\n",
    "\n",
    "\n",
    "batch_prots = next(iter(dataloader))\n",
    "\n",
    "for k in batch_prots.keys():\n",
    "    # print(k,batch_prots[k])\n",
    "    print(f\"{k}: {batch_prots[k].shape}\")"
   ]
  },
  {
   "cell_type": "code",
   "execution_count": 4,
   "metadata": {},
   "outputs": [
    {
     "data": {
      "text/plain": [
       "tensor(0.0047, dtype=torch.float64)"
      ]
     },
     "execution_count": 4,
     "metadata": {},
     "output_type": "execute_result"
    }
   ],
   "source": [
    "batch_prots[\"dynamics_covars\"].mean()"
   ]
  },
  {
   "cell_type": "code",
   "execution_count": 5,
   "metadata": {},
   "outputs": [
    {
     "data": {
      "text/plain": [
       "DynaProt(\n",
       "  (sequence_embedding): Embedding(21, 128)\n",
       "  (ipa_blocks): ModuleList(\n",
       "    (0-7): 8 x InvariantPointAttention(\n",
       "      (linear_q): Linear(in_features=128, out_features=64, bias=True)\n",
       "      (linear_kv): Linear(in_features=128, out_features=128, bias=True)\n",
       "      (linear_q_points): Linear(in_features=128, out_features=48, bias=True)\n",
       "      (linear_kv_points): Linear(in_features=128, out_features=144, bias=True)\n",
       "      (linear_b): Linear(in_features=128, out_features=4, bias=True)\n",
       "      (linear_out): Linear(in_features=704, out_features=128, bias=True)\n",
       "      (softmax): Softmax(dim=-1)\n",
       "      (softplus): Softplus(beta=1.0, threshold=20.0)\n",
       "    )\n",
       "  )\n",
       "  (mean_predictor): Linear(in_features=128, out_features=3, bias=True)\n",
       "  (covars_predictor): Linear(in_features=128, out_features=6, bias=True)\n",
       "  (loss): DynaProtLoss()\n",
       ")"
      ]
     },
     "execution_count": 5,
     "metadata": {},
     "output_type": "execute_result"
    }
   ],
   "source": [
    "from dynaprot.model.architecture import DynaProt\n",
    "\n",
    "model = DynaProt(modelconfig)\n",
    "model"
   ]
  },
  {
   "cell_type": "code",
   "execution_count": 9,
   "metadata": {},
   "outputs": [
    {
     "name": "stdout",
     "output_type": "stream",
     "text": [
      "{'resi_gaussians': {'mse_means': tensor(16.9697, grad_fn=<MseLossBackward0>), 'kldiv': tensor(11190.6953, grad_fn=<MeanBackward0>)}, 'resi_rmsf': {}}\n",
      "{'resi_gaussians': {'mse_means': 16.969669342041016, 'kldiv': 11190.6953125}, 'resi_rmsf': {}}\n",
      "tensor(11207.6650, grad_fn=<AddBackward0>)\n"
     ]
    },
    {
     "data": {
      "text/plain": [
       "(tensor(11207.6650, grad_fn=<AddBackward0>),\n",
       " {'resi_gaussians': {'mse_means': 16.969669342041016, 'kldiv': 11190.6953125},\n",
       "  'resi_rmsf': {}})"
      ]
     },
     "execution_count": 9,
     "metadata": {},
     "output_type": "execute_result"
    }
   ],
   "source": [
    "model.training_step(batch_prots,0)"
   ]
  },
  {
   "cell_type": "code",
   "execution_count": 89,
   "metadata": {},
   "outputs": [
    {
     "name": "stdout",
     "output_type": "stream",
     "text": [
      "tensor([[[[ 1.7247,  2.6265,  3.9398],\n",
      "          [ 2.6265, 20.1455, 26.0907],\n",
      "          [ 3.9398, 26.0907, 70.0297]],\n",
      "\n",
      "         [[ 1.7247,  2.6265,  3.9398],\n",
      "          [ 2.6265, 20.1455, 26.0907],\n",
      "          [ 3.9398, 26.0907, 70.0297]]],\n",
      "\n",
      "\n",
      "        [[[ 1.7247,  2.6265,  3.9398],\n",
      "          [ 2.6265, 20.1455, 26.0907],\n",
      "          [ 3.9398, 26.0907, 70.0297]],\n",
      "\n",
      "         [[ 1.7247,  2.6265,  3.9398],\n",
      "          [ 2.6265, 20.1455, 26.0907],\n",
      "          [ 3.9398, 26.0907, 70.0297]]],\n",
      "\n",
      "\n",
      "        [[[ 1.7247,  2.6265,  3.9398],\n",
      "          [ 2.6265, 20.1455, 26.0907],\n",
      "          [ 3.9398, 26.0907, 70.0297]],\n",
      "\n",
      "         [[ 1.7247,  2.6265,  3.9398],\n",
      "          [ 2.6265, 20.1455, 26.0907],\n",
      "          [ 3.9398, 26.0907, 70.0297]]],\n",
      "\n",
      "\n",
      "        [[[ 1.7247,  2.6265,  3.9398],\n",
      "          [ 2.6265, 20.1455, 26.0907],\n",
      "          [ 3.9398, 26.0907, 70.0297]],\n",
      "\n",
      "         [[ 1.7247,  2.6265,  3.9398],\n",
      "          [ 2.6265, 20.1455, 26.0907],\n",
      "          [ 3.9398, 26.0907, 70.0297]]],\n",
      "\n",
      "\n",
      "        [[[ 1.7247,  2.6265,  3.9398],\n",
      "          [ 2.6265, 20.1455, 26.0907],\n",
      "          [ 3.9398, 26.0907, 70.0297]],\n",
      "\n",
      "         [[ 1.7247,  2.6265,  3.9398],\n",
      "          [ 2.6265, 20.1455, 26.0907],\n",
      "          [ 3.9398, 26.0907, 70.0297]]],\n",
      "\n",
      "\n",
      "        [[[ 1.7247,  2.6265,  3.9398],\n",
      "          [ 2.6265, 20.1455, 26.0907],\n",
      "          [ 3.9398, 26.0907, 70.0297]],\n",
      "\n",
      "         [[ 1.7247,  2.6265,  3.9398],\n",
      "          [ 2.6265, 20.1455, 26.0907],\n",
      "          [ 3.9398, 26.0907, 70.0297]]],\n",
      "\n",
      "\n",
      "        [[[ 1.7247,  2.6265,  3.9398],\n",
      "          [ 2.6265, 20.1455, 26.0907],\n",
      "          [ 3.9398, 26.0907, 70.0297]],\n",
      "\n",
      "         [[ 1.7247,  2.6265,  3.9398],\n",
      "          [ 2.6265, 20.1455, 26.0907],\n",
      "          [ 3.9398, 26.0907, 70.0297]]],\n",
      "\n",
      "\n",
      "        [[[ 1.7247,  2.6265,  3.9398],\n",
      "          [ 2.6265, 20.1455, 26.0907],\n",
      "          [ 3.9398, 26.0907, 70.0297]],\n",
      "\n",
      "         [[ 1.7247,  2.6265,  3.9398],\n",
      "          [ 2.6265, 20.1455, 26.0907],\n",
      "          [ 3.9398, 26.0907, 70.0297]]],\n",
      "\n",
      "\n",
      "        [[[ 1.7247,  2.6265,  3.9398],\n",
      "          [ 2.6265, 20.1455, 26.0907],\n",
      "          [ 3.9398, 26.0907, 70.0297]],\n",
      "\n",
      "         [[ 1.7247,  2.6265,  3.9398],\n",
      "          [ 2.6265, 20.1455, 26.0907],\n",
      "          [ 3.9398, 26.0907, 70.0297]]],\n",
      "\n",
      "\n",
      "        [[[ 1.7247,  2.6265,  3.9398],\n",
      "          [ 2.6265, 20.1455, 26.0907],\n",
      "          [ 3.9398, 26.0907, 70.0297]],\n",
      "\n",
      "         [[ 1.7247,  2.6265,  3.9398],\n",
      "          [ 2.6265, 20.1455, 26.0907],\n",
      "          [ 3.9398, 26.0907, 70.0297]]]])\n"
     ]
    }
   ],
   "source": [
    "import torch.nn.functional as F\n",
    "b = 10\n",
    "n = 2\n",
    "preds = torch.repeat_interleave(torch.arange(6)+1,n).reshape(-1,n).T.unsqueeze(0).repeat(b,1,1)\n",
    "# print(preds,preds.shape)\n",
    "\n",
    "\n",
    "L = torch.zeros(b,n,3,3)\n",
    "\n",
    "i = 0\n",
    "for c in range(3):\n",
    "    for r in range(c,3):\n",
    "        L[:,:,r,c] = preds[:,:,i] \n",
    "        if r == c:\n",
    "            L[:,:,r,c] = F.softplus(L[:,:,r,c])\n",
    "        i+=1\n",
    "\n",
    "covars = L @ L.transpose(2,3)\n",
    "print(covars)\n",
    "# # print(L)\n",
    "# print(covars)"
   ]
  },
  {
   "cell_type": "code",
   "execution_count": null,
   "metadata": {},
   "outputs": [],
   "source": []
  }
 ],
 "metadata": {
  "kernelspec": {
   "display_name": "gaussprot",
   "language": "python",
   "name": "python3"
  },
  "language_info": {
   "codemirror_mode": {
    "name": "ipython",
    "version": 3
   },
   "file_extension": ".py",
   "mimetype": "text/x-python",
   "name": "python",
   "nbconvert_exporter": "python",
   "pygments_lexer": "ipython3",
   "version": "3.9.20"
  }
 },
 "nbformat": 4,
 "nbformat_minor": 2
}
