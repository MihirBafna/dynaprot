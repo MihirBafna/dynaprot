{
 "cells": [
  {
   "cell_type": "code",
   "execution_count": 1,
   "metadata": {},
   "outputs": [],
   "source": [
    "%load_ext autoreload\n",
    "%autoreload 2\n",
    "\n",
    "import numpy as np\n",
    "import pandas as pd\n",
    "import torch\n",
    "import os\n",
    "import sys\n",
    "sys.path.append(\"../\")\n",
    "import plotly.express as px"
   ]
  },
  {
   "cell_type": "code",
   "execution_count": 2,
   "metadata": {},
   "outputs": [],
   "source": [
    "\n",
    "data_dir = \"/data/cb/scratch/datasets/atlas_dynamics_labels\"\n",
    "data_config_dir = \"../configs/data\""
   ]
  },
  {
   "cell_type": "code",
   "execution_count": 3,
   "metadata": {},
   "outputs": [
    {
     "data": {
      "text/plain": [
       "{'repo_dir': '/data/cb/mihirb14/projects/DynaProt',\n",
       " 'data_dir': '/data/cb/scratch/datasets/atlas_dynamics_labels',\n",
       " 'protein_chains_path': '/data/cb/mihirb14/projects/dynaprot/dynaprot/data/preprocessing/protein_lists/atlas_chains.npy',\n",
       " 'split': 'all',\n",
       " 'max_num_residues': 512}"
      ]
     },
     "execution_count": 3,
     "metadata": {},
     "output_type": "execute_result"
    }
   ],
   "source": [
    "import yaml\n",
    "from pathlib import Path\n",
    "\n",
    "# Load YAML config\n",
    "with open(data_config_dir+\"/atlas_config.yaml\", \"r\") as file:\n",
    "    config = yaml.safe_load(file)\n",
    "config"
   ]
  },
  {
   "cell_type": "code",
   "execution_count": 4,
   "metadata": {},
   "outputs": [],
   "source": [
    "config[\"split\"] = \"train\""
   ]
  },
  {
   "cell_type": "code",
   "execution_count": null,
   "metadata": {},
   "outputs": [
    {
     "name": "stdout",
     "output_type": "stream",
     "text": [
      "1266\n"
     ]
    },
    {
     "name": "stdout",
     "output_type": "stream",
     "text": [
      "1266\n",
      "aatype: torch.Size([1, 512, 21])\n",
      "residue_index: torch.Size([1, 512])\n",
      "all_atom_positions: torch.Size([1, 512, 37, 3])\n",
      "all_atom_mask: torch.Size([1, 512, 37])\n",
      "frames: torch.Size([1, 512, 4, 4])\n",
      "dynamics_means: torch.Size([1, 512, 3])\n",
      "dynamics_covars: torch.Size([1, 512, 3, 3])\n",
      "resi_pad_mask: torch.Size([1, 512])\n"
     ]
    },
    {
     "ename": "",
     "evalue": "",
     "output_type": "error",
     "traceback": [
      "\u001b[1;31mThe Kernel crashed while executing code in the current cell or a previous cell. \n",
      "\u001b[1;31mPlease review the code in the cell(s) to identify a possible cause of the failure. \n",
      "\u001b[1;31mClick <a href='https://aka.ms/vscodeJupyterKernelCrash'>here</a> for more info. \n",
      "\u001b[1;31mView Jupyter <a href='command:jupyter.viewOutput'>log</a> for further details."
     ]
    }
   ],
   "source": [
    "from dynaprot.data.datasets import DynaProtDataset, OpenFoldBatchCollator\n",
    "\n",
    "dataset = DynaProtDataset(config)\n",
    "print(len(dataset))\n",
    "dataloader = torch.utils.data.DataLoader(\n",
    "        dataset,\n",
    "        batch_size=1,\n",
    "        collate_fn=OpenFoldBatchCollator(),\n",
    "        num_workers=12,\n",
    "        shuffle=False,\n",
    "    )\n",
    "\n",
    "batch_prots = next(iter(dataloader))\n",
    "print(len(dataloader))\n",
    "for k in batch_prots.keys():\n",
    "    # print(k,batch_prots[k])\n",
    "    print(f\"{k}: {batch_prots[k].shape}\")"
   ]
  },
  {
   "cell_type": "code",
   "execution_count": 14,
   "metadata": {},
   "outputs": [],
   "source": [
    "split = \"val\"\n",
    "np.save(f\"../dynaprot/data/preprocessing/protein_lists/atlas_chains_{split}.npy\",pd.read_csv(f\"splits/atlas_{split}.csv\").name.to_numpy().astype(str))"
   ]
  },
  {
   "cell_type": "code",
   "execution_count": 11,
   "metadata": {},
   "outputs": [
    {
     "data": {
      "text/plain": [
       "array(['2pu9_A', '1kop_A', '4p7x_A', ..., '1bq8_A', '1z1l_A', '3agn_A'],\n",
       "      dtype='<U6')"
      ]
     },
     "execution_count": 11,
     "metadata": {},
     "output_type": "execute_result"
    }
   ],
   "source": [
    "np.load(f\"../dynaprot/data/preprocessing/protein_lists/atlas_chains.npy\")"
   ]
  },
  {
   "cell_type": "code",
   "execution_count": null,
   "metadata": {},
   "outputs": [],
   "source": [
    "batch_prots[\"dynamics_covars\"][batch_prots[\"resi_pad_mask\"].bool()].shape"
   ]
  },
  {
   "cell_type": "code",
   "execution_count": 7,
   "metadata": {},
   "outputs": [],
   "source": [
    "# batch_prots[\"dynamics_covars\"][batch_prots[\"resi_pad_mask\"].bool()]"
   ]
  },
  {
   "cell_type": "code",
   "execution_count": 5,
   "metadata": {},
   "outputs": [],
   "source": [
    "prot = torch.load(\"/data/cb/scratch/datasets/atlas_dynamics_labels/3nke_B/3nke_B.pt\")\n",
    "means = prot[\"dynamics_means\"]\n",
    "covars = prot[\"dynamics_covars\"]"
   ]
  },
  {
   "cell_type": "code",
   "execution_count": 7,
   "metadata": {},
   "outputs": [],
   "source": [
    "from dynaprot.evaluation.visualizer import plot_3d_gaussian_ellipsoids,plot_3d_gaussian_comparison\n",
    "\n",
    "plot_3d_gaussian_ellipsoids(means.numpy()[:20], covars.numpy()[:20], num_points=50, save_path = \"./3nke_B_ellipsoids.html\")\n"
   ]
  },
  {
   "cell_type": "code",
   "execution_count": 9,
   "metadata": {},
   "outputs": [
    {
     "data": {
      "text/plain": [
       "True"
      ]
     },
     "execution_count": 9,
     "metadata": {},
     "output_type": "execute_result"
    }
   ],
   "source": [
    "import os\n",
    "dir = set(os.listdir(\"/data/cb/scratch/datasets/atlas_dynamics_labels\"))\n",
    "lis = set(list(np.load(\"../dynaprot/data/preprocessing/protein_lists/atlas_chains.npy\")))\n",
    "lis==dir\n"
   ]
  },
  {
   "cell_type": "code",
   "execution_count": 12,
   "metadata": {},
   "outputs": [
    {
     "data": {
      "text/plain": [
       "'../dynaprot/data/preprocessing/protein_lists/atlas_chains'"
      ]
     },
     "execution_count": 12,
     "metadata": {},
     "output_type": "execute_result"
    }
   ],
   "source": [
    "\"../dynaprot/data/preprocessing/protein_lists/atlas_chains.npy\"[:-4]"
   ]
  },
  {
   "cell_type": "code",
   "execution_count": 10,
   "metadata": {},
   "outputs": [
    {
     "data": {
      "text/plain": [
       "'/data/cb/mihirb14/projects/dynaprot/experiments'"
      ]
     },
     "execution_count": 10,
     "metadata": {},
     "output_type": "execute_result"
    }
   ],
   "source": [
    "%pwd"
   ]
  },
  {
   "cell_type": "code",
   "execution_count": null,
   "metadata": {},
   "outputs": [],
   "source": [
    "np.load(\"/data/cb/scratch/datasets/pdb_npz/c9/2c9i_D.npz\",allow_pickle=True)[\"aatype\"].argmax(axis=-1).shape"
   ]
  },
  {
   "cell_type": "code",
   "execution_count": null,
   "metadata": {},
   "outputs": [],
   "source": [
    "means = []\n",
    "vars = []\n",
    "for i in range(len(dataset)):\n",
    "    means.append(dataset[i][\"dynamics_covars\"].mean())\n",
    "    vars.append(dataset[i][\"dynamics_covars\"].var())\n",
    "    \n"
   ]
  },
  {
   "cell_type": "code",
   "execution_count": null,
   "metadata": {},
   "outputs": [],
   "source": [
    "px.histogram(x=vars)"
   ]
  },
  {
   "cell_type": "code",
   "execution_count": null,
   "metadata": {},
   "outputs": [],
   "source": [
    "feats[\"all_atom_positions\"].shape"
   ]
  },
  {
   "cell_type": "code",
   "execution_count": 22,
   "metadata": {},
   "outputs": [],
   "source": [
    "import os\n",
    "import numpy as np\n",
    "import pandas as pd\n",
    "\n",
    "mmcif_path = \"/data/cb/scratch/datasets/pdb_mmcif\"\n",
    "npz_path = \"/data/cb/scratch/datasets/pdb_npz\"\n",
    "chain_path = \"/data/cb/scratch/datasets/pdb_chains\"\n",
    "\n",
    "pdb_proteins = pd.read_csv(os.path.join(npz_path,\"pdb_chains.csv\"))[\"name\"].str.split(\"_\").str[0].astype(str)\n",
    "np.save(\"/data/cb/mihirb14/projects/dynaprot/dynaprot/data/preprocessing/protein_lists/pdb_chains.npy\",pdb_proteins)"
   ]
  },
  {
   "cell_type": "code",
   "execution_count": 27,
   "metadata": {},
   "outputs": [],
   "source": [
    "atlas_proteins = np.unique(np.array(os.listdir(\"/data/cb/scratch/datasets/atlas_dynamics_labels/\")))\n",
    "np.save(\"/data/cb/mihirb14/projects/dynaprot/dynaprot/data/preprocessing/protein_lists/atlas_chains.npy\",atlas_proteins)"
   ]
  },
  {
   "cell_type": "markdown",
   "metadata": {},
   "source": [
    "2c9i_D, 2hqk_A"
   ]
  }
 ],
 "metadata": {
  "kernelspec": {
   "display_name": "gaussprot",
   "language": "python",
   "name": "python3"
  },
  "language_info": {
   "codemirror_mode": {
    "name": "ipython",
    "version": 3
   },
   "file_extension": ".py",
   "mimetype": "text/x-python",
   "name": "python",
   "nbconvert_exporter": "python",
   "pygments_lexer": "ipython3",
   "version": "3.9.20"
  }
 },
 "nbformat": 4,
 "nbformat_minor": 2
}
