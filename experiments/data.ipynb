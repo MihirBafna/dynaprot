{
 "cells": [
  {
   "cell_type": "code",
   "execution_count": 1,
   "metadata": {},
   "outputs": [],
   "source": [
    "%load_ext autoreload\n",
    "%autoreload 2\n",
    "\n",
    "import numpy as np\n",
    "import pandas as pd\n",
    "import torch\n",
    "import os\n",
    "import sys\n",
    "sys.path.append(\"../\")"
   ]
  },
  {
   "cell_type": "code",
   "execution_count": 2,
   "metadata": {},
   "outputs": [],
   "source": [
    "atlas_data_dir = \"/data/cb/scratch/datasets/atlas\"\n",
    "atlas_dynamicslabels_dir = \"/data/cb/scratch/datasets/atlas_dynamics_labels\"\n",
    "data_config_dir = \"../trained/configs/data\""
   ]
  },
  {
   "cell_type": "code",
   "execution_count": 10,
   "metadata": {},
   "outputs": [
    {
     "data": {
      "text/plain": [
       "{'repo_dir': '/data/cb/mihirb14/projects/DynaProt',\n",
       " 'struc_data_dir': '/data/cb/scratch/datasets/pdb_npz',\n",
       " 'dynam_data_dir': '/data/cb/scratch/datasets/atlas_dynamics_labels',\n",
       " 'max_seq_len': 512}"
      ]
     },
     "execution_count": 10,
     "metadata": {},
     "output_type": "execute_result"
    }
   ],
   "source": [
    "import yaml\n",
    "from pathlib import Path\n",
    "\n",
    "# Load YAML config\n",
    "with open(data_config_dir+\"/atlas_config.yaml\", \"r\") as file:\n",
    "    config = yaml.safe_load(file)\n",
    "config"
   ]
  },
  {
   "cell_type": "code",
   "execution_count": 11,
   "metadata": {},
   "outputs": [
    {
     "name": "stdout",
     "output_type": "stream",
     "text": [
      "aatype:torch.Size([10, 512, 21])\n",
      "residue_index:torch.Size([10, 512])\n",
      "all_atom_positions:torch.Size([10, 512, 37, 3])\n",
      "all_atom_mask:torch.Size([10, 512, 37])\n",
      "resi_pad_mask:torch.Size([10, 512])\n",
      "dynamics_means:torch.Size([10, 512, 3])\n",
      "dynamics_vars:torch.Size([10, 512, 3, 3])\n",
      "frames:torch.Size([10, 512, 4, 4])\n"
     ]
    }
   ],
   "source": [
    "from DynaProt.data.datasets import DynaProtDataset, OpenFoldBatchCollator\n",
    "\n",
    "dataset = DynaProtDataset(config)\n",
    "dataloader = torch.utils.data.DataLoader(\n",
    "        dataset,\n",
    "        batch_size=10,\n",
    "        collate_fn=OpenFoldBatchCollator(),\n",
    "        num_workers=12,\n",
    "        shuffle=False,\n",
    "    )\n",
    "\n",
    "batch_prots = next(iter(dataloader))\n",
    "\n",
    "for k in batch_prots.keys():\n",
    "    # print(k,batch_prots[k])\n",
    "    print(f\"{k}: {batch_prots[k].shape}\")"
   ]
  },
  {
   "cell_type": "code",
   "execution_count": null,
   "metadata": {},
   "outputs": [],
   "source": []
  }
 ],
 "metadata": {
  "kernelspec": {
   "display_name": "gaussprot",
   "language": "python",
   "name": "python3"
  },
  "language_info": {
   "codemirror_mode": {
    "name": "ipython",
    "version": 3
   },
   "file_extension": ".py",
   "mimetype": "text/x-python",
   "name": "python",
   "nbconvert_exporter": "python",
   "pygments_lexer": "ipython3",
   "version": "3.9.20"
  }
 },
 "nbformat": 4,
 "nbformat_minor": 2
}
